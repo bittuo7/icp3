{
 "cells": [
  {
   "cell_type": "code",
   "execution_count": 6,
   "id": "261bcda3-e1e9-4173-a66b-e5240c7859c2",
   "metadata": {},
   "outputs": [
    {
     "name": "stdout",
     "output_type": "stream",
     "text": [
      "Total number of employees: 3\n",
      "Average salary of employees: 76666.67\n"
     ]
    }
   ],
   "source": [
    "import pandas as pd\n",
    "import matplotlib.pyplot as plt\n",
    "\n",
    "# Load the dataset\n",
    "df = pd.read_csv('data.csv')\n",
    "\n",
    "# Display basic statistics\n",
    "print(\"Basic Statistical Description:\\n\", df.describe())\n",
    "\n",
    "# Check for null values\n",
    "print(\"\\nNull values:\\n\", df.isnull().sum())\n",
    "\n",
    "# Replace null values with mean\n",
    "df.fillna(df.mean(numeric_only=True), inplace=True)\n",
    "\n",
    "# Aggregation using min, max, count, and mean\n",
    "print(\"\\nAggregated Data:\")\n",
    "print(df[['Duration', 'Calories']].agg(['min', 'max', 'count', 'mean']))\n",
    "\n",
    "# Filtering rows with calories between 500 and 1000\n",
    "df_filtered1 = df[(df['Calories'] >= 500) & (df['Calories'] <= 1000)]\n",
    "print(\"\\nRows with Calories between 500 and 1000:\\n\", df_filtered1)\n",
    "\n",
    "# Filtering rows with calories > 500 and pulse < 100\n",
    "df_filtered2 = df[(df['Calories'] > 500) & (df['Pulse'] < 100)]\n",
    "print(\"\\nRows with Calories > 500 and Pulse < 100:\\n\", df_filtered2)\n",
    "\n",
    "# Create new dataframe excluding \"Maxpulse\"\n",
    "df_modified = df.drop(columns=['Maxpulse'])\n",
    "print(\"\\nNew dataframe without 'Maxpulse' column:\\n\", df_modified.head())\n",
    "\n",
    "# Delete \"Maxpulse\" from main dataframe\n",
    "df.drop(columns=['Maxpulse'], inplace=True)\n",
    "\n",
    "# Convert 'Calories' column to integer\n",
    "df['Calories'] = df['Calories'].astype(int)\n",
    "print(\"\\nData types after conversion:\\n\", df.dtypes)\n",
    "\n",
    "# Create scatter plot\n",
    "plt.scatter(df['Duration'], df['Calories'], color='blue')\n",
    "plt.xlabel(\"Duration\")\n",
    "plt.ylabel(\"Calories\")\n",
    "plt.title(\"Scatter Plot: Duration vs Calories\")\n",
    "plt.show()\n"
   ]
  },
  {
   "cell_type": "code",
   "execution_count": 1,
   "id": "5a26a372-5858-494d-8bea-b4d6cd5facde",
   "metadata": {},
   "outputs": [
    {
     "ename": "ModuleNotFoundError",
     "evalue": "No module named 'pandas'",
     "output_type": "error",
     "traceback": [
      "\u001b[1;31m---------------------------------------------------------------------------\u001b[0m",
      "\u001b[1;31mModuleNotFoundError\u001b[0m                       Traceback (most recent call last)",
      "Cell \u001b[1;32mIn[1], line 1\u001b[0m\n\u001b[1;32m----> 1\u001b[0m \u001b[38;5;28;01mimport\u001b[39;00m\u001b[38;5;250m \u001b[39m\u001b[38;5;21;01mpandas\u001b[39;00m\u001b[38;5;250m \u001b[39m\u001b[38;5;28;01mas\u001b[39;00m\u001b[38;5;250m \u001b[39m\u001b[38;5;21;01mpd\u001b[39;00m\n\u001b[0;32m      2\u001b[0m \u001b[38;5;28;01mimport\u001b[39;00m\u001b[38;5;250m \u001b[39m\u001b[38;5;21;01mmatplotlib\u001b[39;00m\u001b[38;5;21;01m.\u001b[39;00m\u001b[38;5;21;01mpyplot\u001b[39;00m\u001b[38;5;250m \u001b[39m\u001b[38;5;28;01mas\u001b[39;00m\u001b[38;5;250m \u001b[39m\u001b[38;5;21;01mplt\u001b[39;00m\n\u001b[0;32m      4\u001b[0m \u001b[38;5;66;03m# Load the dataset\u001b[39;00m\n",
      "\u001b[1;31mModuleNotFoundError\u001b[0m: No module named 'pandas'"
     ]
    }
   ],
   "source": [
    "import pandas as pd\n",
    "import matplotlib.pyplot as plt\n",
    "\n",
    "# Load the dataset\n",
    "df = pd.read_csv('data.csv')\n",
    "\n",
    "# Display basic statistics\n",
    "print(\"Basic Statistical Description:\\n\", df.describe())\n",
    "\n",
    "# Check for null values\n",
    "print(\"\\nNull values:\\n\", df.isnull().sum())\n",
    "\n",
    "# Replace null values with mean\n",
    "df.fillna(df.mean(numeric_only=True), inplace=True)\n",
    "\n",
    "# Aggregation using min, max, count, and mean\n",
    "print(\"\\nAggregated Data:\")\n",
    "print(df[['Duration', 'Calories']].agg(['min', 'max', 'count', 'mean']))\n",
    "\n",
    "# Filtering rows with calories between 500 and 1000\n",
    "df_filtered1 = df[(df['Calories'] >= 500) & (df['Calories'] <= 1000)]\n",
    "print(\"\\nRows with Calories between 500 and 1000:\\n\", df_filtered1)\n",
    "\n",
    "# Filtering rows with calories > 500 and pulse < 100\n",
    "df_filtered2 = df[(df['Calories'] > 500) & (df['Pulse'] < 100)]\n",
    "print(\"\\nRows with Calories > 500 and Pulse < 100:\\n\", df_filtered2)\n",
    "\n",
    "# Create new dataframe excluding \"Maxpulse\"\n",
    "df_modified = df.drop(columns=['Maxpulse'])\n",
    "print(\"\\nNew dataframe without 'Maxpulse' column:\\n\", df_modified.head())\n",
    "\n",
    "# Delete \"Maxpulse\" from main dataframe\n",
    "df.drop(columns=['Maxpulse'], inplace=True)\n",
    "\n",
    "# Convert 'Calories' column to integer\n",
    "df['Calories'] = df['Calories'].astype(int)\n",
    "print(\"\\nData types after conversion:\\n\", df.dtypes)\n",
    "\n",
    "# Create scatter plot\n",
    "plt.scatter(df['Duration'], df['Calories'], color='blue')\n",
    "plt.xlabel(\"Duration\")\n",
    "plt.ylabel(\"Calories\")\n",
    "plt.title(\"Scatter Plot: Duration vs Calories\")\n",
    "plt.show()\n",
    "\n"
   ]
  },
  {
   "cell_type": "code",
   "execution_count": null,
   "id": "73726b08-7936-47e3-9df5-3d5cc05bc240",
   "metadata": {},
   "outputs": [],
   "source": []
  },
  {
   "cell_type": "markdown",
   "id": "31f45607-298e-497e-b0d8-bca667e77266",
   "metadata": {},
   "source": [
    "this is an [icp2 video link](https://drive.google.com/file/d/10L8XVlB8cM2lYbODv_QQENR4VMeFDEs0/view?usp=sharing)."
   ]
  }
 ],
 "metadata": {
  "kernelspec": {
   "display_name": "Python 3",
   "language": "python",
   "name": "python3"
  },
  "language_info": {
   "codemirror_mode": {
    "name": "ipython",
    "version": 3
   },
   "file_extension": ".py",
   "mimetype": "text/x-python",
   "name": "python",
   "nbconvert_exporter": "python",
   "pygments_lexer": "ipython3",
   "version": "3.13.1"
  }
 },
 "nbformat": 4,
 "nbformat_minor": 5
}
